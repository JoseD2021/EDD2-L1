{
  "nbformat": 4,
  "nbformat_minor": 0,
  "metadata": {
    "colab": {
      "provenance": []
    },
    "kernelspec": {
      "name": "python3",
      "display_name": "Python 3"
    },
    "language_info": {
      "name": "python"
    }
  },
  "cells": [
    {
      "cell_type": "markdown",
      "source": [
        "#Laboratorio 1"
      ],
      "metadata": {
        "id": "elfzG_05T8-z"
      }
    },
    {
      "cell_type": "markdown",
      "source": [
        "###Cosas Pendientes:\n",
        "AVL\n",
        "- Agregar y calcular factor de equilibrio\n",
        "- Codificar rotaciones.\n",
        "\n",
        "Puntos del laboratorio\n",
        "- Todo\n",
        "\n"
      ],
      "metadata": {
        "id": "nHNE9sf6UKWs"
      }
    },
    {
      "cell_type": "code",
      "source": [
        "import pandas as pd\n",
        "import graphviz"
      ],
      "metadata": {
        "id": "8gsPK5gh2L5P"
      },
      "execution_count": null,
      "outputs": []
    },
    {
      "cell_type": "code",
      "source": [
        "data = pd.read_csv(\"dataset_movies.csv\") # cargar antes el archivo de nombres"
      ],
      "metadata": {
        "id": "g6tfuzs_5Zxk",
        "outputId": "84ac702a-e2b3-47f4-f893-77e30f0cd8ee",
        "colab": {
          "base_uri": "https://localhost:8080/",
          "height": 287
        }
      },
      "execution_count": null,
      "outputs": [
        {
          "output_type": "error",
          "ename": "FileNotFoundError",
          "evalue": "[Errno 2] No such file or directory: 'dataset_movies.csv'",
          "traceback": [
            "\u001b[0;31m---------------------------------------------------------------------------\u001b[0m",
            "\u001b[0;31mFileNotFoundError\u001b[0m                         Traceback (most recent call last)",
            "\u001b[0;32m<ipython-input-2-66733a2e7009>\u001b[0m in \u001b[0;36m<cell line: 1>\u001b[0;34m()\u001b[0m\n\u001b[0;32m----> 1\u001b[0;31m \u001b[0mdata\u001b[0m \u001b[0;34m=\u001b[0m \u001b[0mpd\u001b[0m\u001b[0;34m.\u001b[0m\u001b[0mread_csv\u001b[0m\u001b[0;34m(\u001b[0m\u001b[0;34m\"dataset_movies.csv\"\u001b[0m\u001b[0;34m)\u001b[0m \u001b[0;31m# cargar antes el archivo de nombres\u001b[0m\u001b[0;34m\u001b[0m\u001b[0;34m\u001b[0m\u001b[0m\n\u001b[0m",
            "\u001b[0;32m/usr/local/lib/python3.10/dist-packages/pandas/io/parsers/readers.py\u001b[0m in \u001b[0;36mread_csv\u001b[0;34m(filepath_or_buffer, sep, delimiter, header, names, index_col, usecols, dtype, engine, converters, true_values, false_values, skipinitialspace, skiprows, skipfooter, nrows, na_values, keep_default_na, na_filter, verbose, skip_blank_lines, parse_dates, infer_datetime_format, keep_date_col, date_parser, date_format, dayfirst, cache_dates, iterator, chunksize, compression, thousands, decimal, lineterminator, quotechar, quoting, doublequote, escapechar, comment, encoding, encoding_errors, dialect, on_bad_lines, delim_whitespace, low_memory, memory_map, float_precision, storage_options, dtype_backend)\u001b[0m\n\u001b[1;32m    946\u001b[0m     \u001b[0mkwds\u001b[0m\u001b[0;34m.\u001b[0m\u001b[0mupdate\u001b[0m\u001b[0;34m(\u001b[0m\u001b[0mkwds_defaults\u001b[0m\u001b[0;34m)\u001b[0m\u001b[0;34m\u001b[0m\u001b[0;34m\u001b[0m\u001b[0m\n\u001b[1;32m    947\u001b[0m \u001b[0;34m\u001b[0m\u001b[0m\n\u001b[0;32m--> 948\u001b[0;31m     \u001b[0;32mreturn\u001b[0m \u001b[0m_read\u001b[0m\u001b[0;34m(\u001b[0m\u001b[0mfilepath_or_buffer\u001b[0m\u001b[0;34m,\u001b[0m \u001b[0mkwds\u001b[0m\u001b[0;34m)\u001b[0m\u001b[0;34m\u001b[0m\u001b[0;34m\u001b[0m\u001b[0m\n\u001b[0m\u001b[1;32m    949\u001b[0m \u001b[0;34m\u001b[0m\u001b[0m\n\u001b[1;32m    950\u001b[0m \u001b[0;34m\u001b[0m\u001b[0m\n",
            "\u001b[0;32m/usr/local/lib/python3.10/dist-packages/pandas/io/parsers/readers.py\u001b[0m in \u001b[0;36m_read\u001b[0;34m(filepath_or_buffer, kwds)\u001b[0m\n\u001b[1;32m    609\u001b[0m \u001b[0;34m\u001b[0m\u001b[0m\n\u001b[1;32m    610\u001b[0m     \u001b[0;31m# Create the parser.\u001b[0m\u001b[0;34m\u001b[0m\u001b[0;34m\u001b[0m\u001b[0m\n\u001b[0;32m--> 611\u001b[0;31m     \u001b[0mparser\u001b[0m \u001b[0;34m=\u001b[0m \u001b[0mTextFileReader\u001b[0m\u001b[0;34m(\u001b[0m\u001b[0mfilepath_or_buffer\u001b[0m\u001b[0;34m,\u001b[0m \u001b[0;34m**\u001b[0m\u001b[0mkwds\u001b[0m\u001b[0;34m)\u001b[0m\u001b[0;34m\u001b[0m\u001b[0;34m\u001b[0m\u001b[0m\n\u001b[0m\u001b[1;32m    612\u001b[0m \u001b[0;34m\u001b[0m\u001b[0m\n\u001b[1;32m    613\u001b[0m     \u001b[0;32mif\u001b[0m \u001b[0mchunksize\u001b[0m \u001b[0;32mor\u001b[0m \u001b[0miterator\u001b[0m\u001b[0;34m:\u001b[0m\u001b[0;34m\u001b[0m\u001b[0;34m\u001b[0m\u001b[0m\n",
            "\u001b[0;32m/usr/local/lib/python3.10/dist-packages/pandas/io/parsers/readers.py\u001b[0m in \u001b[0;36m__init__\u001b[0;34m(self, f, engine, **kwds)\u001b[0m\n\u001b[1;32m   1446\u001b[0m \u001b[0;34m\u001b[0m\u001b[0m\n\u001b[1;32m   1447\u001b[0m         \u001b[0mself\u001b[0m\u001b[0;34m.\u001b[0m\u001b[0mhandles\u001b[0m\u001b[0;34m:\u001b[0m \u001b[0mIOHandles\u001b[0m \u001b[0;34m|\u001b[0m \u001b[0;32mNone\u001b[0m \u001b[0;34m=\u001b[0m \u001b[0;32mNone\u001b[0m\u001b[0;34m\u001b[0m\u001b[0;34m\u001b[0m\u001b[0m\n\u001b[0;32m-> 1448\u001b[0;31m         \u001b[0mself\u001b[0m\u001b[0;34m.\u001b[0m\u001b[0m_engine\u001b[0m \u001b[0;34m=\u001b[0m \u001b[0mself\u001b[0m\u001b[0;34m.\u001b[0m\u001b[0m_make_engine\u001b[0m\u001b[0;34m(\u001b[0m\u001b[0mf\u001b[0m\u001b[0;34m,\u001b[0m \u001b[0mself\u001b[0m\u001b[0;34m.\u001b[0m\u001b[0mengine\u001b[0m\u001b[0;34m)\u001b[0m\u001b[0;34m\u001b[0m\u001b[0;34m\u001b[0m\u001b[0m\n\u001b[0m\u001b[1;32m   1449\u001b[0m \u001b[0;34m\u001b[0m\u001b[0m\n\u001b[1;32m   1450\u001b[0m     \u001b[0;32mdef\u001b[0m \u001b[0mclose\u001b[0m\u001b[0;34m(\u001b[0m\u001b[0mself\u001b[0m\u001b[0;34m)\u001b[0m \u001b[0;34m->\u001b[0m \u001b[0;32mNone\u001b[0m\u001b[0;34m:\u001b[0m\u001b[0;34m\u001b[0m\u001b[0;34m\u001b[0m\u001b[0m\n",
            "\u001b[0;32m/usr/local/lib/python3.10/dist-packages/pandas/io/parsers/readers.py\u001b[0m in \u001b[0;36m_make_engine\u001b[0;34m(self, f, engine)\u001b[0m\n\u001b[1;32m   1703\u001b[0m                 \u001b[0;32mif\u001b[0m \u001b[0;34m\"b\"\u001b[0m \u001b[0;32mnot\u001b[0m \u001b[0;32min\u001b[0m \u001b[0mmode\u001b[0m\u001b[0;34m:\u001b[0m\u001b[0;34m\u001b[0m\u001b[0;34m\u001b[0m\u001b[0m\n\u001b[1;32m   1704\u001b[0m                     \u001b[0mmode\u001b[0m \u001b[0;34m+=\u001b[0m \u001b[0;34m\"b\"\u001b[0m\u001b[0;34m\u001b[0m\u001b[0;34m\u001b[0m\u001b[0m\n\u001b[0;32m-> 1705\u001b[0;31m             self.handles = get_handle(\n\u001b[0m\u001b[1;32m   1706\u001b[0m                 \u001b[0mf\u001b[0m\u001b[0;34m,\u001b[0m\u001b[0;34m\u001b[0m\u001b[0;34m\u001b[0m\u001b[0m\n\u001b[1;32m   1707\u001b[0m                 \u001b[0mmode\u001b[0m\u001b[0;34m,\u001b[0m\u001b[0;34m\u001b[0m\u001b[0;34m\u001b[0m\u001b[0m\n",
            "\u001b[0;32m/usr/local/lib/python3.10/dist-packages/pandas/io/common.py\u001b[0m in \u001b[0;36mget_handle\u001b[0;34m(path_or_buf, mode, encoding, compression, memory_map, is_text, errors, storage_options)\u001b[0m\n\u001b[1;32m    861\u001b[0m         \u001b[0;32mif\u001b[0m \u001b[0mioargs\u001b[0m\u001b[0;34m.\u001b[0m\u001b[0mencoding\u001b[0m \u001b[0;32mand\u001b[0m \u001b[0;34m\"b\"\u001b[0m \u001b[0;32mnot\u001b[0m \u001b[0;32min\u001b[0m \u001b[0mioargs\u001b[0m\u001b[0;34m.\u001b[0m\u001b[0mmode\u001b[0m\u001b[0;34m:\u001b[0m\u001b[0;34m\u001b[0m\u001b[0;34m\u001b[0m\u001b[0m\n\u001b[1;32m    862\u001b[0m             \u001b[0;31m# Encoding\u001b[0m\u001b[0;34m\u001b[0m\u001b[0;34m\u001b[0m\u001b[0m\n\u001b[0;32m--> 863\u001b[0;31m             handle = open(\n\u001b[0m\u001b[1;32m    864\u001b[0m                 \u001b[0mhandle\u001b[0m\u001b[0;34m,\u001b[0m\u001b[0;34m\u001b[0m\u001b[0;34m\u001b[0m\u001b[0m\n\u001b[1;32m    865\u001b[0m                 \u001b[0mioargs\u001b[0m\u001b[0;34m.\u001b[0m\u001b[0mmode\u001b[0m\u001b[0;34m,\u001b[0m\u001b[0;34m\u001b[0m\u001b[0;34m\u001b[0m\u001b[0m\n",
            "\u001b[0;31mFileNotFoundError\u001b[0m: [Errno 2] No such file or directory: 'dataset_movies.csv'"
          ]
        }
      ]
    },
    {
      "cell_type": "markdown",
      "source": [
        "##Definicion de clase Arbol AVL\n",
        "\n"
      ],
      "metadata": {
        "id": "mfA3xZ-jUimx"
      }
    },
    {
      "cell_type": "code",
      "source": [
        "from typing import Any, Optional, Tuple\n",
        "\n",
        "class Node:\n",
        "\n",
        "    def __init__(self, data: Any) -> None:\n",
        "        self.data = data\n",
        "        self.left: Optional[\"Node\"] = None\n",
        "        self.right: Optional[\"Node\"] = None\n",
        "\n",
        "class AVLTree:\n",
        "\n",
        "    def __init__(self, root: Optional[\"Node\"] = None) -> None:\n",
        "        self.root = root\n",
        "\n",
        "    def preorder(self) -> None:\n",
        "        self.__preorder_r(self.root)\n",
        "        print()\n",
        "\n",
        "    def __preorder_r(self, node: Optional[\"Node\"]) -> None:\n",
        "        if node is not None:\n",
        "            print(node.data, end = ' ')\n",
        "            self.__preorder_r(node.left)\n",
        "            self.__preorder_r(node.right)\n",
        "\n",
        "    def preorder_nr(self) -> None:\n",
        "        s = []\n",
        "        p = self.root\n",
        "        while p is not None or len(s) > 0:\n",
        "            if p is not None:\n",
        "                print(p.data, end = ' ')\n",
        "                s.append(p)\n",
        "                p = p.left\n",
        "            else:\n",
        "                p = s.pop()\n",
        "                p = p.right\n",
        "        print()\n",
        "\n",
        "    def inorder(self) -> None:\n",
        "        self.__inorder_r(self.root)\n",
        "        print()\n",
        "\n",
        "    def __inorder_r(self, node: Optional[\"Node\"]) -> None:\n",
        "        if node is not None:\n",
        "            self.__inorder_r(node.left)\n",
        "            print(node.data, end = ' ')\n",
        "            self.__inorder_r(node.right)\n",
        "\n",
        "    def inorder_nr(self) -> None:\n",
        "        s = []\n",
        "        p = self.root\n",
        "        while p is not None or len(s) > 0:\n",
        "            if p is not None:\n",
        "                s.append(p)\n",
        "                p = p.left\n",
        "            else:\n",
        "                p = s.pop()\n",
        "                print(p.data, end = ' ')\n",
        "                p = p.right\n",
        "        print()\n",
        "\n",
        "    def postorder(self) -> None:\n",
        "        self.__postorder_r(self.root)\n",
        "        print()\n",
        "\n",
        "    def __postorder_r(self, node: Optional[\"Node\"]) -> None:\n",
        "        if node is not None:\n",
        "            self.__postorder_r(node.left)\n",
        "            self.__postorder_r(node.right)\n",
        "            print(node.data, end = ' ')\n",
        "\n",
        "    def levels_nr(self) -> None:\n",
        "        q = []\n",
        "        p = self.root\n",
        "        q.append(p)\n",
        "        while len(q) > 0:\n",
        "            p = q.pop(0)\n",
        "            print(p.data, end = ' ')\n",
        "            if p.left is not None:\n",
        "                q.append(p.left)\n",
        "            if p.right is not None:\n",
        "                q.append(p.right)\n",
        "        print()\n",
        "\n",
        "    def height(self) -> int:\n",
        "        return self.__height_r(self.root)\n",
        "\n",
        "    def __height_r(self, node: Optional[\"Node\"]) -> int:\n",
        "        if node is None:\n",
        "            return 0\n",
        "        return 1 + max(self.__height_r(node.left), self.__height_r(node.right))\n",
        "\n",
        "    @staticmethod\n",
        "    def generate_sample_tree() -> \"AVLTree\":\n",
        "        T = AVLTree(Node('A'))\n",
        "        T.root.left = Node('B')\n",
        "        T.root.right = Node('C')\n",
        "        T.root.left.left = Node('D')\n",
        "        T.root.left.right = Node('E')\n",
        "        T.root.right.right = Node('F')\n",
        "        T.root.left.left.left = Node('G')\n",
        "        T.root.left.left.right = Node('H')\n",
        "        T.root.right.right.left = Node('I')\n",
        "        T.root.right.right.right = Node('J')\n",
        "        T.root.left.left.right.left = Node('K')\n",
        "\n",
        "        return T\n",
        "\n",
        "    def search(self, data: Any) -> Tuple[Optional[\"Node\"], Optional[\"Node\"]]:\n",
        "        p, pad = self.root, None\n",
        "        while p is not None:\n",
        "            if data == p.data:\n",
        "                return p, pad\n",
        "            else:\n",
        "                pad = p\n",
        "                if data < p.data:\n",
        "                    p = p.left\n",
        "                else:\n",
        "                    p = p.right\n",
        "        return p, pad\n",
        "\n",
        "    def insert(self, data: Any) -> bool:\n",
        "        to_insert = Node(data)\n",
        "        if self.root is None:\n",
        "            self.root = to_insert\n",
        "            return True\n",
        "        else:\n",
        "            p, pad = self.search(data)\n",
        "            if p is not None:\n",
        "                return False\n",
        "            else:\n",
        "                if data < pad.data:\n",
        "                    pad.left = to_insert\n",
        "                else:\n",
        "                    pad.right = to_insert\n",
        "                return True\n",
        "\n",
        "    def delete(self, data: Any, mode: bool = True) -> bool:\n",
        "        p, pad = self.search(data)\n",
        "        if p is not None:\n",
        "            if p.left is None and p.right is None:\n",
        "                if p == pad.left:\n",
        "                    pad.left = None\n",
        "                else:\n",
        "                    pad.right = None\n",
        "                del p\n",
        "            elif p.left is None and p.right is not None:\n",
        "                if p == pad.left:\n",
        "                    pad.left = p.right\n",
        "                else:\n",
        "                    pad.right = p.right\n",
        "                del p\n",
        "            elif p.left is not None and p.right is None:\n",
        "                if p == pad.left:\n",
        "                    pad.left = p.left\n",
        "                else:\n",
        "                    pad.right = p.left\n",
        "                del p\n",
        "            else:\n",
        "                if mode:\n",
        "                    pred, pad_pred, son_pred = self.__pred(p)\n",
        "                    p.data = pred.data\n",
        "                    if p == pad_pred:\n",
        "                        pad_pred.left = son_pred\n",
        "                    else:\n",
        "                        pad_pred.right = son_pred\n",
        "                    del pred\n",
        "                else:\n",
        "                    sus, pad_sus, son_sus = self.__sus(p)\n",
        "                    p.data = sus.data\n",
        "                    if p == pad_sus:\n",
        "                        pad_sus.right = son_sus\n",
        "                    else:\n",
        "                        pad_sus.left = son_sus\n",
        "                    del sus\n",
        "            return True\n",
        "        return False\n",
        "\n",
        "    def __pred(self, node: \"Node\") -> Tuple[\"Node\", \"Node\", Optional[\"Node\"]]:\n",
        "        p, pad = node.left, node\n",
        "        while p.right is not None:\n",
        "            p, pad = p.right, p\n",
        "        return p, pad, p.left\n",
        "\n",
        "    def __sus(self, node: \"Node\") -> Tuple[\"Node\", \"Node\", Optional[\"Node\"]]:\n",
        "        p, pad = node.right, node\n",
        "        while p.left is not None:\n",
        "            p, pad = p.left, p\n",
        "        return p, pad, p.right"
      ],
      "metadata": {
        "id": "WKOFNf7iUhJR"
      },
      "execution_count": null,
      "outputs": []
    },
    {
      "cell_type": "markdown",
      "source": [
        "pruebas:"
      ],
      "metadata": {
        "id": "3pRSJIpOHZvJ"
      }
    },
    {
      "cell_type": "code",
      "source": [
        "#for i in range(0,20):\n",
        "#  pass\n",
        "\n",
        "arbol = AVLTree()\n",
        "arbol.generate_sample_tree()\n",
        "\n",
        "\n",
        "\n",
        "\n",
        "dot = graphviz.Digraph(comment='Arbol de decisión')\n",
        "\n",
        "s = []\n",
        "ap = None\n",
        "p = arbol.root\n",
        "while p is not None or len(s) > 0:\n",
        "    if p is not None:\n",
        "        print(p.data, end = ' ')\n",
        "        s.append(p)\n",
        "        ap = p\n",
        "        p = p.left\n",
        "        dot.node (p.data, p.data)\n",
        "        dot.edge(ap.data, p.data)\n",
        "    else:\n",
        "        p = s.pop()\n",
        "        p = p.right\n",
        "\n",
        "\n",
        "dot.render()"
      ],
      "metadata": {
        "id": "v8oP-NTM3C3x"
      },
      "execution_count": null,
      "outputs": []
    }
  ]
}